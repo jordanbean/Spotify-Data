{
 "cells": [
  {
   "cell_type": "markdown",
   "metadata": {},
   "source": [
    "# Spotify Data Project\n",
    "\n",
    "The goal of this project is to transform my Spotify data into a series of visual graphics that can tell me about my listening habits, including who I listen to, when, and how often."
   ]
  },
  {
   "cell_type": "code",
   "execution_count": 1,
   "metadata": {},
   "outputs": [],
   "source": [
    "# Import libraries\n",
    "\n",
    "import pandas as pd\n",
    "import numpy as np\n",
    "import matplotlib.pyplot as plt\n",
    "import seaborn as sns; sns.set()\n",
    "\n",
    "import json\n",
    "from pprint import pprint\n",
    "\n",
    "import plotly\n",
    "plotly.tools.set_credentials_file(username=(your_username), api_key=(your_api_key))\n",
    "import plotly.plotly as py\n",
    "import plotly.graph_objs as go\n",
    "\n",
    "pd.set_option('display.max_rows', 500)"
   ]
  },
  {
   "cell_type": "code",
   "execution_count": 51,
   "metadata": {},
   "outputs": [
    {
     "name": "stdout",
     "output_type": "stream",
     "text": [
      "[{'artistName': 'Ludovico Einaudi',\n",
      "  'endTime': '2018-08-08 00:03',\n",
      "  'msPlayed': 357706,\n",
      "  'trackName': 'Nuvole bianche'},\n",
      " {'artistName': 'Frédéric Chopin',\n",
      "  'endTime': '2018-08-08 00:49',\n",
      "  'msPlayed': 269000,\n",
      "  'trackName': 'Nocturne No.2 In E Flat, Op.9 No.2'},\n",
      " {'artistName': 'Joep Beving',\n",
      "  'endTime': '2018-08-08 00:54',\n",
      "  'msPlayed': 288280,\n",
      "  'trackName': 'Ab Ovo'},\n",
      " {'artistName': 'Claude Debussy',\n",
      "  'endTime': '2018-08-08 00:56',\n",
      "  'msPlayed': 136320,\n",
      "  'trackName': 'Beau Soir, L. 6'},\n",
      " {'artistName': 'John Rutter',\n",
      "  'endTime': '2018-08-08 01:01',\n",
      "  'msPlayed': 289120,\n",
      "  'trackName': 'A Gaelic Blessing: Meditation'}]\n"
     ]
    }
   ],
   "source": [
    "# Read in the data from a Json format and look at the results\n",
    "\n",
    "with open('C:\\\\Users\\\\jbean\\\\Dropbox\\\\Other\\\\Python\\\\Spotify\\\\StreamingHistory.json', encoding='utf8') as f:\n",
    "    data = json.load(f)\n",
    "\n",
    "pprint(data[:5])"
   ]
  },
  {
   "cell_type": "code",
   "execution_count": 3,
   "metadata": {},
   "outputs": [],
   "source": [
    "# Convert from JSON to a data frame\n",
    "\n",
    "spotify_data = pd.DataFrame()\n",
    "\n",
    "def extract_json_value(column_name):\n",
    "    \n",
    "    return [i[column_name] for i in data]\n",
    "\n",
    "spotify_data['artist_name'] = extract_json_value('artistName')\n",
    "spotify_data['end_time'] = extract_json_value('endTime')\n",
    "spotify_data['ms_played'] = extract_json_value('msPlayed')\n",
    "spotify_data['track_name'] = extract_json_value('trackName')"
   ]
  },
  {
   "cell_type": "code",
   "execution_count": 4,
   "metadata": {},
   "outputs": [
    {
     "data": {
      "text/html": [
       "<div>\n",
       "<style scoped>\n",
       "    .dataframe tbody tr th:only-of-type {\n",
       "        vertical-align: middle;\n",
       "    }\n",
       "\n",
       "    .dataframe tbody tr th {\n",
       "        vertical-align: top;\n",
       "    }\n",
       "\n",
       "    .dataframe thead th {\n",
       "        text-align: right;\n",
       "    }\n",
       "</style>\n",
       "<table border=\"1\" class=\"dataframe\">\n",
       "  <thead>\n",
       "    <tr style=\"text-align: right;\">\n",
       "      <th></th>\n",
       "      <th>artist_name</th>\n",
       "      <th>end_time</th>\n",
       "      <th>ms_played</th>\n",
       "      <th>track_name</th>\n",
       "    </tr>\n",
       "  </thead>\n",
       "  <tbody>\n",
       "    <tr>\n",
       "      <th>3805</th>\n",
       "      <td>Luke Bryan</td>\n",
       "      <td>2018-11-04 16:36</td>\n",
       "      <td>199853</td>\n",
       "      <td>Way Way Back</td>\n",
       "    </tr>\n",
       "    <tr>\n",
       "      <th>2181</th>\n",
       "      <td>Ari Afsar</td>\n",
       "      <td>2018-09-21 16:26</td>\n",
       "      <td>182827</td>\n",
       "      <td>First Burn</td>\n",
       "    </tr>\n",
       "    <tr>\n",
       "      <th>1450</th>\n",
       "      <td>Lukas Graham</td>\n",
       "      <td>2018-09-05 19:25</td>\n",
       "      <td>8085</td>\n",
       "      <td>7 Years</td>\n",
       "    </tr>\n",
       "    <tr>\n",
       "      <th>3599</th>\n",
       "      <td>for KING &amp; COUNTRY</td>\n",
       "      <td>2018-10-29 00:52</td>\n",
       "      <td>3297</td>\n",
       "      <td>Burn The Ships</td>\n",
       "    </tr>\n",
       "    <tr>\n",
       "      <th>2504</th>\n",
       "      <td>Kevin Olusola</td>\n",
       "      <td>2018-10-03 20:44</td>\n",
       "      <td>217580</td>\n",
       "      <td>As Long as You Love Me</td>\n",
       "    </tr>\n",
       "    <tr>\n",
       "      <th>290</th>\n",
       "      <td>Parachute</td>\n",
       "      <td>2018-08-16 11:22</td>\n",
       "      <td>125699</td>\n",
       "      <td>Forever And Always</td>\n",
       "    </tr>\n",
       "    <tr>\n",
       "      <th>3555</th>\n",
       "      <td>Cody Simpson</td>\n",
       "      <td>2018-10-28 13:34</td>\n",
       "      <td>98960</td>\n",
       "      <td>I Fall in Love Too Easily</td>\n",
       "    </tr>\n",
       "    <tr>\n",
       "      <th>1442</th>\n",
       "      <td>Post Malone</td>\n",
       "      <td>2018-09-05 19:12</td>\n",
       "      <td>30209</td>\n",
       "      <td>rockstar (feat. 21 Savage)</td>\n",
       "    </tr>\n",
       "    <tr>\n",
       "      <th>896</th>\n",
       "      <td>Johannes Bornlöf</td>\n",
       "      <td>2018-08-25 20:19</td>\n",
       "      <td>152746</td>\n",
       "      <td>Reminiscence</td>\n",
       "    </tr>\n",
       "    <tr>\n",
       "      <th>3053</th>\n",
       "      <td>Bebe Rexha</td>\n",
       "      <td>2018-10-14 14:59</td>\n",
       "      <td>195519</td>\n",
       "      <td>I'm a Mess</td>\n",
       "    </tr>\n",
       "  </tbody>\n",
       "</table>\n",
       "</div>"
      ],
      "text/plain": [
       "             artist_name          end_time  ms_played  \\\n",
       "3805          Luke Bryan  2018-11-04 16:36     199853   \n",
       "2181           Ari Afsar  2018-09-21 16:26     182827   \n",
       "1450        Lukas Graham  2018-09-05 19:25       8085   \n",
       "3599  for KING & COUNTRY  2018-10-29 00:52       3297   \n",
       "2504       Kevin Olusola  2018-10-03 20:44     217580   \n",
       "290            Parachute  2018-08-16 11:22     125699   \n",
       "3555        Cody Simpson  2018-10-28 13:34      98960   \n",
       "1442         Post Malone  2018-09-05 19:12      30209   \n",
       "896     Johannes Bornlöf  2018-08-25 20:19     152746   \n",
       "3053          Bebe Rexha  2018-10-14 14:59     195519   \n",
       "\n",
       "                      track_name  \n",
       "3805                Way Way Back  \n",
       "2181                  First Burn  \n",
       "1450                     7 Years  \n",
       "3599              Burn The Ships  \n",
       "2504      As Long as You Love Me  \n",
       "290           Forever And Always  \n",
       "3555   I Fall in Love Too Easily  \n",
       "1442  rockstar (feat. 21 Savage)  \n",
       "896                 Reminiscence  \n",
       "3053                  I'm a Mess  "
      ]
     },
     "execution_count": 4,
     "metadata": {},
     "output_type": "execute_result"
    }
   ],
   "source": [
    "spotify_data.sample(10)"
   ]
  },
  {
   "cell_type": "code",
   "execution_count": 5,
   "metadata": {},
   "outputs": [
    {
     "name": "stdout",
     "output_type": "stream",
     "text": [
      "<class 'pandas.core.frame.DataFrame'>\n",
      "RangeIndex: 3896 entries, 0 to 3895\n",
      "Data columns (total 4 columns):\n",
      "artist_name    3896 non-null object\n",
      "end_time       3896 non-null object\n",
      "ms_played      3896 non-null int64\n",
      "track_name     3896 non-null object\n",
      "dtypes: int64(1), object(3)\n",
      "memory usage: 121.8+ KB\n"
     ]
    }
   ],
   "source": [
    "spotify_data.info()"
   ]
  },
  {
   "cell_type": "markdown",
   "metadata": {},
   "source": [
    "# Format columns and add variables"
   ]
  },
  {
   "cell_type": "code",
   "execution_count": 6,
   "metadata": {},
   "outputs": [],
   "source": [
    "# Convert the timestamp column to datetime\n",
    "\n",
    "spotify_data['end_time'] = pd.to_datetime(spotify_data['end_time'])"
   ]
  },
  {
   "cell_type": "code",
   "execution_count": 7,
   "metadata": {},
   "outputs": [],
   "source": [
    "# Add additional time columns for more interpretable times; drop the MS column\n",
    "\n",
    "spotify_data['seconds_played'] = spotify_data.ms_played.divide(1000)\n",
    "spotify_data['minutes_played'] = spotify_data.seconds_played.divide(60)\n",
    "\n",
    "spotify_data.drop('ms_played', axis=1, inplace=True)"
   ]
  },
  {
   "cell_type": "code",
   "execution_count": 8,
   "metadata": {},
   "outputs": [
    {
     "data": {
      "text/html": [
       "<div>\n",
       "<style scoped>\n",
       "    .dataframe tbody tr th:only-of-type {\n",
       "        vertical-align: middle;\n",
       "    }\n",
       "\n",
       "    .dataframe tbody tr th {\n",
       "        vertical-align: top;\n",
       "    }\n",
       "\n",
       "    .dataframe thead th {\n",
       "        text-align: right;\n",
       "    }\n",
       "</style>\n",
       "<table border=\"1\" class=\"dataframe\">\n",
       "  <thead>\n",
       "    <tr style=\"text-align: right;\">\n",
       "      <th></th>\n",
       "      <th>artist_name</th>\n",
       "      <th>end_time</th>\n",
       "      <th>track_name</th>\n",
       "      <th>seconds_played</th>\n",
       "      <th>minutes_played</th>\n",
       "    </tr>\n",
       "  </thead>\n",
       "  <tbody>\n",
       "    <tr>\n",
       "      <th>2667</th>\n",
       "      <td>Griffin Peterson</td>\n",
       "      <td>2018-10-07 13:49:00</td>\n",
       "      <td>Hold on to You (Acoustic)</td>\n",
       "      <td>228.642</td>\n",
       "      <td>3.810700</td>\n",
       "    </tr>\n",
       "    <tr>\n",
       "      <th>1625</th>\n",
       "      <td>Alessia Cara</td>\n",
       "      <td>2018-09-08 14:20:00</td>\n",
       "      <td>Growing Pains</td>\n",
       "      <td>193.680</td>\n",
       "      <td>3.228000</td>\n",
       "    </tr>\n",
       "    <tr>\n",
       "      <th>3282</th>\n",
       "      <td>Robinson</td>\n",
       "      <td>2018-10-19 01:33:00</td>\n",
       "      <td>Medicine</td>\n",
       "      <td>121.957</td>\n",
       "      <td>2.032617</td>\n",
       "    </tr>\n",
       "    <tr>\n",
       "      <th>3567</th>\n",
       "      <td>Jess Ray</td>\n",
       "      <td>2018-10-28 14:11:00</td>\n",
       "      <td>What Have We Found Ourselves In</td>\n",
       "      <td>36.884</td>\n",
       "      <td>0.614733</td>\n",
       "    </tr>\n",
       "    <tr>\n",
       "      <th>2325</th>\n",
       "      <td>The Black Eyed Peas</td>\n",
       "      <td>2018-09-27 02:17:00</td>\n",
       "      <td>Where Is The Love?</td>\n",
       "      <td>272.533</td>\n",
       "      <td>4.542217</td>\n",
       "    </tr>\n",
       "    <tr>\n",
       "      <th>964</th>\n",
       "      <td>Dan + Shay</td>\n",
       "      <td>2018-08-26 15:30:00</td>\n",
       "      <td>Speechless - The Vocals</td>\n",
       "      <td>206.911</td>\n",
       "      <td>3.448517</td>\n",
       "    </tr>\n",
       "    <tr>\n",
       "      <th>2511</th>\n",
       "      <td>Liam Payne</td>\n",
       "      <td>2018-10-03 21:07:00</td>\n",
       "      <td>For You (Fifty Shades Freed) (&amp; Rita Ora)</td>\n",
       "      <td>245.453</td>\n",
       "      <td>4.090883</td>\n",
       "    </tr>\n",
       "    <tr>\n",
       "      <th>790</th>\n",
       "      <td>BYU Noteworthy</td>\n",
       "      <td>2018-08-25 15:42:00</td>\n",
       "      <td>When You Believe</td>\n",
       "      <td>0.000</td>\n",
       "      <td>0.000000</td>\n",
       "    </tr>\n",
       "    <tr>\n",
       "      <th>105</th>\n",
       "      <td>Caleb and Kelsey</td>\n",
       "      <td>2018-08-11 15:11:00</td>\n",
       "      <td>Shout to the Lord / God of Wonders</td>\n",
       "      <td>232.079</td>\n",
       "      <td>3.867983</td>\n",
       "    </tr>\n",
       "    <tr>\n",
       "      <th>3335</th>\n",
       "      <td>The Willis Clan</td>\n",
       "      <td>2018-10-19 20:06:00</td>\n",
       "      <td>Ring of Fire</td>\n",
       "      <td>1.253</td>\n",
       "      <td>0.020883</td>\n",
       "    </tr>\n",
       "  </tbody>\n",
       "</table>\n",
       "</div>"
      ],
      "text/plain": [
       "              artist_name            end_time  \\\n",
       "2667     Griffin Peterson 2018-10-07 13:49:00   \n",
       "1625         Alessia Cara 2018-09-08 14:20:00   \n",
       "3282             Robinson 2018-10-19 01:33:00   \n",
       "3567             Jess Ray 2018-10-28 14:11:00   \n",
       "2325  The Black Eyed Peas 2018-09-27 02:17:00   \n",
       "964            Dan + Shay 2018-08-26 15:30:00   \n",
       "2511           Liam Payne 2018-10-03 21:07:00   \n",
       "790        BYU Noteworthy 2018-08-25 15:42:00   \n",
       "105      Caleb and Kelsey 2018-08-11 15:11:00   \n",
       "3335      The Willis Clan 2018-10-19 20:06:00   \n",
       "\n",
       "                                     track_name  seconds_played  \\\n",
       "2667                  Hold on to You (Acoustic)         228.642   \n",
       "1625                              Growing Pains         193.680   \n",
       "3282                                   Medicine         121.957   \n",
       "3567            What Have We Found Ourselves In          36.884   \n",
       "2325                         Where Is The Love?         272.533   \n",
       "964                     Speechless - The Vocals         206.911   \n",
       "2511  For You (Fifty Shades Freed) (& Rita Ora)         245.453   \n",
       "790                            When You Believe           0.000   \n",
       "105          Shout to the Lord / God of Wonders         232.079   \n",
       "3335                               Ring of Fire           1.253   \n",
       "\n",
       "      minutes_played  \n",
       "2667        3.810700  \n",
       "1625        3.228000  \n",
       "3282        2.032617  \n",
       "3567        0.614733  \n",
       "2325        4.542217  \n",
       "964         3.448517  \n",
       "2511        4.090883  \n",
       "790         0.000000  \n",
       "105         3.867983  \n",
       "3335        0.020883  "
      ]
     },
     "execution_count": 8,
     "metadata": {},
     "output_type": "execute_result"
    }
   ],
   "source": [
    "spotify_data.sample(10)"
   ]
  },
  {
   "cell_type": "markdown",
   "metadata": {},
   "source": [
    "# Most populat artists and songs"
   ]
  },
  {
   "cell_type": "code",
   "execution_count": 9,
   "metadata": {},
   "outputs": [
    {
     "name": "stdout",
     "output_type": "stream",
     "text": [
      "The most played artists by count were: \n",
      "\n",
      "artist_name\n",
      "The Script             114\n",
      "Pentatonix             111\n",
      "Olly Murs               64\n",
      "Lady Gaga               48\n",
      "Kurt Hugo Schneider     46\n",
      "Imagine Dragons         44\n",
      "for KING & COUNTRY      39\n",
      "Hans Zimmer             37\n",
      "Timeflies               37\n",
      "Calum Scott             34\n",
      "James Arthur            28\n",
      "OneRepublic             28\n",
      "Dan + Shay              26\n",
      "Jason Derulo            26\n",
      "James TW                26\n",
      "MKTO                    25\n",
      "NF                      24\n",
      "Anthem Lights           23\n",
      "Mat Kearney             23\n",
      "Jason Mraz              23\n",
      "Clean Bandit            22\n",
      "Niall Horan             22\n",
      "Andy Grammer            20\n",
      "MAX                     19\n",
      "Tori Kelly              19\n",
      "Name: track_name, dtype: int64\n"
     ]
    }
   ],
   "source": [
    "# Find the most popular artists by number of times played\n",
    "\n",
    "most_popular_artists_by_count = spotify_data.groupby(by='artist_name')['track_name'].count().sort_values(ascending=False)[:25]\n",
    "\n",
    "print('The most played artists by count were: \\n\\n{}'.format(most_popular_artists_by_count))"
   ]
  },
  {
   "cell_type": "code",
   "execution_count": 10,
   "metadata": {},
   "outputs": [
    {
     "data": {
      "text/html": [
       "<iframe id=\"igraph\" scrolling=\"no\" style=\"border:none;\" seamless=\"seamless\" src=\"https://plot.ly/~jbean01/125.embed\" height=\"525px\" width=\"100%\"></iframe>"
      ],
      "text/plain": [
       "<plotly.tools.PlotlyDisplay object>"
      ]
     },
     "execution_count": 10,
     "metadata": {},
     "output_type": "execute_result"
    }
   ],
   "source": [
    "# Visualize the most popular artists with a standard bar chart\n",
    "\n",
    "data = [\n",
    "    \n",
    "    go.Bar(\n",
    "            x=most_popular_artists_by_count.index,\n",
    "            y=most_popular_artists_by_count,\n",
    "            text=most_popular_artists_by_count,\n",
    "            textposition='auto',\n",
    "            opacity=0.75\n",
    "            \n",
    "    )]\n",
    "\n",
    "layout = go.Layout(\n",
    "    title='Popularity of Artists by Count',\n",
    "    \n",
    "    yaxis= dict(\n",
    "        title='Number of Times Played',\n",
    "        gridcolor='rgb(255, 255, 255)',\n",
    "        zerolinewidth=1,\n",
    "        ticklen=5,\n",
    "        gridwidth=2,\n",
    "        titlefont=dict(size=15))\n",
    ")\n",
    "\n",
    "fig = go.Figure(data=data, layout=layout)\n",
    "        \n",
    "py.iplot(fig, filename='popular_artists')"
   ]
  },
  {
   "cell_type": "code",
   "execution_count": 11,
   "metadata": {},
   "outputs": [
    {
     "data": {
      "text/plain": [
       "artist_name\n",
       "The Script                      334.987650\n",
       "Pentatonix                      279.596567\n",
       "for KING & COUNTRY              125.981867\n",
       "Kurt Hugo Schneider             125.540300\n",
       "Olly Murs                       125.466100\n",
       "Lady Gaga                       122.574817\n",
       "Imagine Dragons                 118.277117\n",
       "Timeflies                       117.157033\n",
       "Calum Scott                     112.745650\n",
       "Carl Ditters von Dittersdorf     86.662800\n",
       "James Arthur                     82.378333\n",
       "Ed Sheeran                       72.605350\n",
       "James TW                         71.762767\n",
       "Jason Derulo                     70.092317\n",
       "Jason Mraz                       68.385117\n",
       "OneRepublic                      66.710133\n",
       "NF                               64.937500\n",
       "MAX                              63.762217\n",
       "MKTO                             62.674317\n",
       "Clean Bandit                     60.686250\n",
       "Name: minutes_played, dtype: float64"
      ]
     },
     "execution_count": 11,
     "metadata": {},
     "output_type": "execute_result"
    }
   ],
   "source": [
    "# Look at most popular artists by amount of time played\n",
    "\n",
    "most_popular_artists_by_time = spotify_data.groupby(by='artist_name')['minutes_played'].sum().sort_values(ascending=False)[:20]\n",
    "\n",
    "most_popular_artists_by_time"
   ]
  },
  {
   "cell_type": "code",
   "execution_count": 12,
   "metadata": {},
   "outputs": [
    {
     "data": {
      "text/plain": [
       "Perfect                                                                31\n",
       "Goodbye (feat. Nicki Minaj & Willy William)                            21\n",
       "Seeing Blind                                                           15\n",
       "Always Remember Us This Way                                            15\n",
       "Rockabye (feat. Sean Paul & Anne-Marie)                                14\n",
       "joy.                                                                   14\n",
       "Zero - From the Original Motion Picture \"Ralph Breaks The Internet\"    13\n",
       "If You Were Mine                                                       13\n",
       "Si No Vuelves                                                          13\n",
       "High Hopes                                                             13\n",
       "Heartstrings                                                           12\n",
       "Amen                                                                   12\n",
       "Anywhere With You Is Home                                              12\n",
       "Have It All                                                            12\n",
       "This Is It                                                             12\n",
       "Live It Up - Official Song 2018 FIFA World Cup Russia                  12\n",
       "Start Again (feat. Logic)                                              12\n",
       "Not Too Late                                                           11\n",
       "Shallow                                                                11\n",
       "Alive                                                                  11\n",
       "Name: track_name, dtype: int64"
      ]
     },
     "execution_count": 12,
     "metadata": {},
     "output_type": "execute_result"
    }
   ],
   "source": [
    "# Look at the most popular songs played\n",
    "\n",
    "most_popular_songs = spotify_data.track_name.value_counts().sort_values(ascending=False)[:20]\n",
    "\n",
    "most_popular_songs"
   ]
  },
  {
   "cell_type": "markdown",
   "metadata": {},
   "source": [
    "# Time of day to listen"
   ]
  },
  {
   "cell_type": "code",
   "execution_count": 13,
   "metadata": {},
   "outputs": [],
   "source": [
    "# Create time of day variable\n",
    "\n",
    "def time_of_day(datetime_column, df=spotify_data):\n",
    "    \n",
    "    \"\"\"\n",
    "    Takes in a datetime column and returns the time of day that the datetime occurs.\n",
    "    \n",
    "    Before 12 PM is considered morning, between 12 PM and 5 PM afternoon, and after 5 PM evening.\n",
    "    \"\"\"\n",
    "    \n",
    "    time_of_day = []\n",
    "    \n",
    "    for i in df[datetime_column]:\n",
    "        \n",
    "        i = i.hour\n",
    "        \n",
    "        if i <= 12:\n",
    "            \n",
    "            time_of_day.append('morning')\n",
    "            \n",
    "        elif i < 17:\n",
    "            \n",
    "            time_of_day.append('afternoon')\n",
    "            \n",
    "        else:\n",
    "            \n",
    "            time_of_day.append('night')\n",
    "    \n",
    "    time_of_day = pd.Categorical(time_of_day, categories=['morning','afternoon','night'], ordered=True)\n",
    "            \n",
    "    return time_of_day"
   ]
  },
  {
   "cell_type": "code",
   "execution_count": 14,
   "metadata": {},
   "outputs": [],
   "source": [
    "from datetime import datetime\n",
    "import time\n",
    "\n",
    "def datetime_from_utc_to_local(utc_datetime):\n",
    "    \n",
    "    \"\"\"\n",
    "    Converts a column from a UTC timestamp to local time, then returns the local time.\n",
    "    \"\"\"\n",
    "    now_timestamp = time.time()\n",
    "    offset = datetime.fromtimestamp(now_timestamp) - datetime.utcfromtimestamp(now_timestamp)\n",
    "    return utc_datetime + offset"
   ]
  },
  {
   "cell_type": "code",
   "execution_count": 15,
   "metadata": {},
   "outputs": [],
   "source": [
    "## Convert from UTC time to eastern time\n",
    "\n",
    "spotify_data['local_time'] = datetime_from_utc_to_local(spotify_data.end_time)\n",
    "spotify_data['local_time_of_day'] = time_of_day('local_time')"
   ]
  },
  {
   "cell_type": "code",
   "execution_count": 16,
   "metadata": {},
   "outputs": [],
   "source": [
    "# Add day of week and organize days as categories\n",
    "\n",
    "spotify_data['local_day_of_week'] = spotify_data['local_time'].dt.day_name()\n",
    "\n",
    "spotify_data['local_day_of_week'] = pd.Categorical(spotify_data['local_day_of_week'], \n",
    "                                   categories=['Monday','Tuesday','Wednesday','Thursday','Friday','Saturday', 'Sunday'], \n",
    "                                   ordered=True)"
   ]
  },
  {
   "cell_type": "code",
   "execution_count": 17,
   "metadata": {},
   "outputs": [],
   "source": [
    "## Create a pivot table by time of day and day of week\n",
    "\n",
    "time_of_day_local_pivot = spotify_data.pivot_table(columns='local_time_of_day', index='local_day_of_week', \n",
    "                                             values='minutes_played', aggfunc=np.sum)\n",
    "\n",
    "start_date = spotify_data.local_time.min()\n",
    "end_date = spotify_data.local_time.max()\n",
    "\n",
    "difference_in_weeks = (end_date - start_date).days / (7)\n",
    "time_of_day_utc_pivot = time_of_day_local_pivot.divide(difference_in_weeks)"
   ]
  },
  {
   "cell_type": "code",
   "execution_count": 18,
   "metadata": {},
   "outputs": [
    {
     "data": {
      "text/html": [
       "<iframe id=\"igraph\" scrolling=\"no\" style=\"border:none;\" seamless=\"seamless\" src=\"https://plot.ly/~jbean01/78.embed\" height=\"525px\" width=\"100%\"></iframe>"
      ],
      "text/plain": [
       "<plotly.tools.PlotlyDisplay object>"
      ]
     },
     "execution_count": 18,
     "metadata": {},
     "output_type": "execute_result"
    }
   ],
   "source": [
    "trace = go.Heatmap(z=time_of_day_utc_pivot.values,\n",
    "                  x=time_of_day_utc_pivot.columns,\n",
    "                  y=time_of_day_utc_pivot.index,\n",
    "                  colorscale='Greens',\n",
    "                  reversescale=True)\n",
    "data=[trace]\n",
    "py.iplot(data, filename='spotify_heatmap')"
   ]
  },
  {
   "cell_type": "markdown",
   "metadata": {},
   "source": [
    "# Higher likelihood to play a song"
   ]
  },
  {
   "cell_type": "code",
   "execution_count": 19,
   "metadata": {},
   "outputs": [],
   "source": [
    "## Read in playlsit data\n",
    "\n",
    "with open('C:\\\\Users\\\\jbean\\\\Dropbox\\\\Other\\\\Python\\\\Spotify\\\\Playlist.json', encoding='utf8') as f:\n",
    "    playlist_data = json.load(f)"
   ]
  },
  {
   "cell_type": "code",
   "execution_count": 20,
   "metadata": {},
   "outputs": [],
   "source": [
    "my_playlist = pd.DataFrame()\n",
    "\n",
    "def extract_json_value_playlist(column_name, data_source = playlist_data):\n",
    "    \n",
    "    \"\"\"\n",
    "    Takes in a column from a JSON format, extracts the values, and returns a column that can be used\n",
    "    in a data frame\n",
    "    \"\"\"\n",
    "    \n",
    "    column_values = []\n",
    "    \n",
    "    for i in range([len(i) for i in data_source['playlists']][0]):\n",
    "        try:\n",
    "            \n",
    "            for k in range(len(data_source['playlists'][i]['tracks'])):\n",
    "\n",
    "                column_values.append(data_source['playlists'][i]['tracks'][k][column_name])\n",
    "                \n",
    "        except:\n",
    "            continue\n",
    "\n",
    "    return column_values\n",
    "\n",
    "my_playlist['artist_name'] = extract_json_value_playlist('artistName')\n",
    "my_playlist['track_name'] = extract_json_value_playlist('trackName')"
   ]
  },
  {
   "cell_type": "code",
   "execution_count": 21,
   "metadata": {},
   "outputs": [
    {
     "data": {
      "text/html": [
       "<div>\n",
       "<style scoped>\n",
       "    .dataframe tbody tr th:only-of-type {\n",
       "        vertical-align: middle;\n",
       "    }\n",
       "\n",
       "    .dataframe tbody tr th {\n",
       "        vertical-align: top;\n",
       "    }\n",
       "\n",
       "    .dataframe thead th {\n",
       "        text-align: right;\n",
       "    }\n",
       "</style>\n",
       "<table border=\"1\" class=\"dataframe\">\n",
       "  <thead>\n",
       "    <tr style=\"text-align: right;\">\n",
       "      <th></th>\n",
       "      <th>artist_name</th>\n",
       "      <th>track_name</th>\n",
       "    </tr>\n",
       "  </thead>\n",
       "  <tbody>\n",
       "    <tr>\n",
       "      <th>57</th>\n",
       "      <td>BYU Noteworthy</td>\n",
       "      <td>When You Believe</td>\n",
       "    </tr>\n",
       "    <tr>\n",
       "      <th>91</th>\n",
       "      <td>Mat Kearney</td>\n",
       "      <td>Learning To Love Again</td>\n",
       "    </tr>\n",
       "    <tr>\n",
       "      <th>75</th>\n",
       "      <td>P!nk</td>\n",
       "      <td>Just Like Fire (From the Original Motion Pictu...</td>\n",
       "    </tr>\n",
       "    <tr>\n",
       "      <th>106</th>\n",
       "      <td>Rudimental</td>\n",
       "      <td>These Days (feat. Jess Glynne, Macklemore &amp; Da...</td>\n",
       "    </tr>\n",
       "    <tr>\n",
       "      <th>46</th>\n",
       "      <td>The Nor'easters</td>\n",
       "      <td>Rise Up</td>\n",
       "    </tr>\n",
       "    <tr>\n",
       "      <th>20</th>\n",
       "      <td>The Piano Guys</td>\n",
       "      <td>In My Blood / Swan Lake</td>\n",
       "    </tr>\n",
       "    <tr>\n",
       "      <th>160</th>\n",
       "      <td>Jack &amp; Jack</td>\n",
       "      <td>Flights</td>\n",
       "    </tr>\n",
       "    <tr>\n",
       "      <th>162</th>\n",
       "      <td>Family of the Year</td>\n",
       "      <td>Hero</td>\n",
       "    </tr>\n",
       "    <tr>\n",
       "      <th>139</th>\n",
       "      <td>Nelly</td>\n",
       "      <td>Die a Happy Man</td>\n",
       "    </tr>\n",
       "    <tr>\n",
       "      <th>49</th>\n",
       "      <td>Olly Murs</td>\n",
       "      <td>Never Been Better</td>\n",
       "    </tr>\n",
       "  </tbody>\n",
       "</table>\n",
       "</div>"
      ],
      "text/plain": [
       "            artist_name                                         track_name\n",
       "57       BYU Noteworthy                                   When You Believe\n",
       "91          Mat Kearney                             Learning To Love Again\n",
       "75                 P!nk  Just Like Fire (From the Original Motion Pictu...\n",
       "106          Rudimental  These Days (feat. Jess Glynne, Macklemore & Da...\n",
       "46      The Nor'easters                                            Rise Up\n",
       "20       The Piano Guys                            In My Blood / Swan Lake\n",
       "160         Jack & Jack                                            Flights\n",
       "162  Family of the Year                                               Hero\n",
       "139               Nelly                                    Die a Happy Man\n",
       "49            Olly Murs                                  Never Been Better"
      ]
     },
     "execution_count": 21,
     "metadata": {},
     "output_type": "execute_result"
    }
   ],
   "source": [
    "my_playlist.sample(10)"
   ]
  },
  {
   "cell_type": "code",
   "execution_count": 22,
   "metadata": {},
   "outputs": [],
   "source": [
    "# Read in the library information\n",
    "\n",
    "with open('C:\\\\Users\\\\jbean\\\\Dropbox\\\\Other\\\\Python\\\\Spotify\\\\YourLibrary.json', encoding='utf8') as f:\n",
    "    library_data = json.load(f)"
   ]
  },
  {
   "cell_type": "code",
   "execution_count": 23,
   "metadata": {},
   "outputs": [],
   "source": [
    "library_df = pd.DataFrame()\n",
    "\n",
    "def extract_json_value_library(column_name, data_source=library_data):\n",
    "    \n",
    "    \"\"\"\n",
    "    Takes in a JSON series of values and converts them to a list\n",
    "    \"\"\"\n",
    "    \n",
    "    return [i[column_name] for i in data_source['tracks']]\n",
    "\n",
    "library_df['artist_name'] = extract_json_value_library('artist')\n",
    "library_df['album'] = extract_json_value_library('album')\n",
    "library_df['track_name'] = extract_json_value_library('track')"
   ]
  },
  {
   "cell_type": "code",
   "execution_count": 24,
   "metadata": {},
   "outputs": [
    {
     "data": {
      "text/html": [
       "<div>\n",
       "<style scoped>\n",
       "    .dataframe tbody tr th:only-of-type {\n",
       "        vertical-align: middle;\n",
       "    }\n",
       "\n",
       "    .dataframe tbody tr th {\n",
       "        vertical-align: top;\n",
       "    }\n",
       "\n",
       "    .dataframe thead th {\n",
       "        text-align: right;\n",
       "    }\n",
       "</style>\n",
       "<table border=\"1\" class=\"dataframe\">\n",
       "  <thead>\n",
       "    <tr style=\"text-align: right;\">\n",
       "      <th></th>\n",
       "      <th>artist_name</th>\n",
       "      <th>album</th>\n",
       "      <th>track_name</th>\n",
       "    </tr>\n",
       "  </thead>\n",
       "  <tbody>\n",
       "    <tr>\n",
       "      <th>7</th>\n",
       "      <td>Hans Zimmer</td>\n",
       "      <td>Inception</td>\n",
       "      <td>528491</td>\n",
       "    </tr>\n",
       "    <tr>\n",
       "      <th>139</th>\n",
       "      <td>Gente De Zona</td>\n",
       "      <td>Si No Vuelves</td>\n",
       "      <td>Si No Vuelves</td>\n",
       "    </tr>\n",
       "    <tr>\n",
       "      <th>93</th>\n",
       "      <td>QUEEVA</td>\n",
       "      <td>Who You Really Are</td>\n",
       "      <td>Who You Really Are</td>\n",
       "    </tr>\n",
       "    <tr>\n",
       "      <th>37</th>\n",
       "      <td>Liam Payne</td>\n",
       "      <td>Fifty Shades Freed</td>\n",
       "      <td>For You (Fifty Shades Freed) (&amp; Rita Ora)</td>\n",
       "    </tr>\n",
       "    <tr>\n",
       "      <th>48</th>\n",
       "      <td>AC.jR &amp; BradyJames</td>\n",
       "      <td>If I Lose Myself</td>\n",
       "      <td>If I Lose Myself</td>\n",
       "    </tr>\n",
       "    <tr>\n",
       "      <th>73</th>\n",
       "      <td>Mass Anthem</td>\n",
       "      <td>Wait for You / Apologize / How to Save a Life</td>\n",
       "      <td>Wait for You / Apologize / How to Save a Life</td>\n",
       "    </tr>\n",
       "    <tr>\n",
       "      <th>157</th>\n",
       "      <td>Pentatonix</td>\n",
       "      <td>PTX Presents: Top Pop, Vol. I</td>\n",
       "      <td>New Rules x Are You That Somebody?</td>\n",
       "    </tr>\n",
       "    <tr>\n",
       "      <th>122</th>\n",
       "      <td>Gavin DeGraw</td>\n",
       "      <td>Something Worth Saving</td>\n",
       "      <td>Something Worth Saving</td>\n",
       "    </tr>\n",
       "    <tr>\n",
       "      <th>1</th>\n",
       "      <td>Ziv Zaifman</td>\n",
       "      <td>The Greatest Showman (Original Motion Picture ...</td>\n",
       "      <td>A Million Dreams</td>\n",
       "    </tr>\n",
       "    <tr>\n",
       "      <th>105</th>\n",
       "      <td>Nico Santos</td>\n",
       "      <td>Rooftop</td>\n",
       "      <td>Rooftop</td>\n",
       "    </tr>\n",
       "  </tbody>\n",
       "</table>\n",
       "</div>"
      ],
      "text/plain": [
       "            artist_name                                              album  \\\n",
       "7           Hans Zimmer                                          Inception   \n",
       "139       Gente De Zona                                      Si No Vuelves   \n",
       "93               QUEEVA                                 Who You Really Are   \n",
       "37           Liam Payne                                 Fifty Shades Freed   \n",
       "48   AC.jR & BradyJames                                   If I Lose Myself   \n",
       "73          Mass Anthem      Wait for You / Apologize / How to Save a Life   \n",
       "157          Pentatonix                      PTX Presents: Top Pop, Vol. I   \n",
       "122        Gavin DeGraw                             Something Worth Saving   \n",
       "1           Ziv Zaifman  The Greatest Showman (Original Motion Picture ...   \n",
       "105         Nico Santos                                            Rooftop   \n",
       "\n",
       "                                        track_name  \n",
       "7                                           528491  \n",
       "139                                  Si No Vuelves  \n",
       "93                              Who You Really Are  \n",
       "37       For You (Fifty Shades Freed) (& Rita Ora)  \n",
       "48                                If I Lose Myself  \n",
       "73   Wait for You / Apologize / How to Save a Life  \n",
       "157             New Rules x Are You That Somebody?  \n",
       "122                         Something Worth Saving  \n",
       "1                                 A Million Dreams  \n",
       "105                                        Rooftop  "
      ]
     },
     "execution_count": 24,
     "metadata": {},
     "output_type": "execute_result"
    }
   ],
   "source": [
    "library_df.sample(10)"
   ]
  },
  {
   "cell_type": "code",
   "execution_count": 25,
   "metadata": {},
   "outputs": [],
   "source": [
    "## Create a series of zipped artist and track names to be able to match values and see song overlap\n",
    "\n",
    "artist_name_track_name_all = list(zip(spotify_data.artist_name, spotify_data.track_name))\n",
    "artist_name_track_name_playlist = list(zip(my_playlist.artist_name, my_playlist.track_name))\n",
    "artist_name_track_name_library = list(zip(library_df.artist_name, library_df.track_name))"
   ]
  },
  {
   "cell_type": "code",
   "execution_count": 26,
   "metadata": {},
   "outputs": [],
   "source": [
    "# Determine if a given song/artist combination is in a playlist or library\n",
    "\n",
    "song_in_playlist = [1 if i in artist_name_track_name_playlist else 0 for i in artist_name_track_name_all]\n",
    "song_in_library = [1 if i in artist_name_track_name_library else 0 for i in artist_name_track_name_all]"
   ]
  },
  {
   "cell_type": "code",
   "execution_count": 27,
   "metadata": {},
   "outputs": [],
   "source": [
    "# Add lists created above to the spotify data frame\n",
    "\n",
    "spotify_data['song_in_playlist'] = song_in_playlist\n",
    "spotify_data['song_in_library'] = song_in_library"
   ]
  },
  {
   "cell_type": "code",
   "execution_count": 28,
   "metadata": {},
   "outputs": [
    {
     "name": "stdout",
     "output_type": "stream",
     "text": [
      "11% of the total songs played were also featured in a playlist\n",
      "26% of the total songs played were also featured in my library\n"
     ]
    }
   ],
   "source": [
    "print('{0:.0%} of the total songs played were also featured in a playlist'.format(spotify_data.song_in_playlist.sum()\\\n",
    "                                                                                 / (spotify_data.shape[0])))\n",
    "print('{0:.0%} of the total songs played were also featured in my library'.format(spotify_data.song_in_library.sum()\\\n",
    "                                                                                 / (spotify_data.shape[0])))"
   ]
  },
  {
   "cell_type": "code",
   "execution_count": 29,
   "metadata": {},
   "outputs": [],
   "source": [
    "# Determine the number of times a song was played if it's in a playlist or library compared to not being in one\n",
    "\n",
    "num_times_played_playlist = []\n",
    "num_times_played_nonplaylist = []\n",
    "\n",
    "num_times_played_library = []\n",
    "num_times_played_nonlibrary = []\n",
    "\n",
    "for artist_song in set(artist_name_track_name_all):\n",
    "    \n",
    "    song_df = spotify_data[(spotify_data.artist_name == artist_song[0]) & (spotify_data.track_name == artist_song[1])]\n",
    "        \n",
    "    if (song_df.song_in_playlist.sum() > 0):\n",
    "        \n",
    "        num_times_played_playlist.append(len(song_df))\n",
    "        \n",
    "    else:\n",
    "        \n",
    "        num_times_played_nonplaylist.append(len(song_df))\n",
    "        \n",
    "    if (song_df.song_in_library.sum() > 0):\n",
    "        \n",
    "        num_times_played_library.append(len(song_df))\n",
    "        \n",
    "    else:\n",
    "        \n",
    "        num_times_played_nonlibrary.append(len(song_df))"
   ]
  },
  {
   "cell_type": "code",
   "execution_count": 31,
   "metadata": {},
   "outputs": [
    {
     "data": {
      "text/html": [
       "<iframe id=\"igraph\" scrolling=\"no\" style=\"border:none;\" seamless=\"seamless\" src=\"https://plot.ly/~jbean01/131.embed\" height=\"525px\" width=\"100%\"></iframe>"
      ],
      "text/plain": [
       "<plotly.tools.PlotlyDisplay object>"
      ]
     },
     "execution_count": 31,
     "metadata": {},
     "output_type": "execute_result"
    }
   ],
   "source": [
    "x_data = ['Non Library', 'Library', 'Non Playlist', 'Playlist']\n",
    "\n",
    "y_data = [num_times_played_nonlibrary, num_times_played_library, num_times_played_nonplaylist, num_times_played_playlist]\n",
    "\n",
    "colors = ['rgba(93, 164, 214, 0.5)', 'rgba(255, 144, 14, 0.5)', 'rgba(44, 160, 101, 0.5)', 'rgba(255, 65, 54, 0.5)', 'rgba(207, 114, 255, 0.5)', 'rgba(127, 96, 0, 0.5)']\n",
    "\n",
    "traces = []\n",
    "\n",
    "for xd, yd, cls in zip(x_data, y_data, colors):\n",
    "        traces.append(go.Box(\n",
    "            y=yd,\n",
    "            name=xd,\n",
    "            boxpoints='all',\n",
    "            jitter=0.5,\n",
    "            whiskerwidth=0.2,\n",
    "            fillcolor=cls,\n",
    "            marker=dict(\n",
    "                size=2,\n",
    "            ),\n",
    "            line=dict(width=1),\n",
    "        ))\n",
    "\n",
    "layout = go.Layout(\n",
    "    title='Frequency of Song Playing by Category',\n",
    "    yaxis=dict(\n",
    "        autorange=True,\n",
    "        showgrid=True,\n",
    "        zeroline=True,\n",
    "        dtick=5,\n",
    "        gridcolor='rgb(255, 255, 255)',\n",
    "        gridwidth=1,\n",
    "        zerolinecolor='rgb(255, 255, 255)',\n",
    "        zerolinewidth=2,\n",
    "        title='Number of Plays'\n",
    "    ),\n",
    "    margin=dict(\n",
    "        l=40,\n",
    "        r=30,\n",
    "        b=80,\n",
    "        t=100,\n",
    "    ),\n",
    "    paper_bgcolor='rgb(243, 243, 243)',\n",
    "    plot_bgcolor='rgb(243, 243, 243)',\n",
    "    showlegend=False\n",
    ")\n",
    "\n",
    "fig = go.Figure(data=traces, layout=layout)\n",
    "py.iplot(fig)"
   ]
  },
  {
   "cell_type": "markdown",
   "metadata": {},
   "source": [
    "# Number of minutes listened per day"
   ]
  },
  {
   "cell_type": "code",
   "execution_count": 32,
   "metadata": {},
   "outputs": [],
   "source": [
    "# Determine the number of minutes per day that I listened to songs\n",
    "\n",
    "number_of_minutes_per_day = spotify_data.set_index('local_time')\n",
    "number_of_minutes_per_day = pd.DataFrame(number_of_minutes_per_day.groupby(\\\n",
    "                            by=number_of_minutes_per_day.index.date)['minutes_played'].sum())"
   ]
  },
  {
   "cell_type": "code",
   "execution_count": 33,
   "metadata": {},
   "outputs": [
    {
     "data": {
      "text/html": [
       "<div>\n",
       "<style scoped>\n",
       "    .dataframe tbody tr th:only-of-type {\n",
       "        vertical-align: middle;\n",
       "    }\n",
       "\n",
       "    .dataframe tbody tr th {\n",
       "        vertical-align: top;\n",
       "    }\n",
       "\n",
       "    .dataframe thead th {\n",
       "        text-align: right;\n",
       "    }\n",
       "</style>\n",
       "<table border=\"1\" class=\"dataframe\">\n",
       "  <thead>\n",
       "    <tr style=\"text-align: right;\">\n",
       "      <th></th>\n",
       "      <th>minutes_played</th>\n",
       "    </tr>\n",
       "  </thead>\n",
       "  <tbody>\n",
       "    <tr>\n",
       "      <th>2018-08-07</th>\n",
       "      <td>98.406583</td>\n",
       "    </tr>\n",
       "    <tr>\n",
       "      <th>2018-08-09</th>\n",
       "      <td>173.769567</td>\n",
       "    </tr>\n",
       "    <tr>\n",
       "      <th>2018-08-10</th>\n",
       "      <td>65.256450</td>\n",
       "    </tr>\n",
       "    <tr>\n",
       "      <th>2018-08-11</th>\n",
       "      <td>142.560117</td>\n",
       "    </tr>\n",
       "    <tr>\n",
       "      <th>2018-08-12</th>\n",
       "      <td>156.548900</td>\n",
       "    </tr>\n",
       "  </tbody>\n",
       "</table>\n",
       "</div>"
      ],
      "text/plain": [
       "            minutes_played\n",
       "2018-08-07       98.406583\n",
       "2018-08-09      173.769567\n",
       "2018-08-10       65.256450\n",
       "2018-08-11      142.560117\n",
       "2018-08-12      156.548900"
      ]
     },
     "execution_count": 33,
     "metadata": {},
     "output_type": "execute_result"
    }
   ],
   "source": [
    "number_of_minutes_per_day.head()"
   ]
  },
  {
   "cell_type": "code",
   "execution_count": 37,
   "metadata": {},
   "outputs": [],
   "source": [
    "from plotly.grid_objs import Grid, Column\n",
    "import plotly.figure_factory as ff\n",
    "\n",
    "import time\n",
    "from datetime import datetime"
   ]
  },
  {
   "cell_type": "code",
   "execution_count": 38,
   "metadata": {},
   "outputs": [
    {
     "data": {
      "text/html": [
       "<iframe id=\"igraph\" scrolling=\"no\" style=\"border:none;\" seamless=\"seamless\" src=\"https://plot.ly/~jbean01/80.embed\" height=\"2690px\" width=\"100%\"></iframe>"
      ],
      "text/plain": [
       "<plotly.tools.PlotlyDisplay object>"
      ]
     },
     "execution_count": 38,
     "metadata": {},
     "output_type": "execute_result"
    }
   ],
   "source": [
    "# Create a plot.ly-friendly table for minutes per day\n",
    "\n",
    "table = ff.create_table(number_of_minutes_per_day)\n",
    "py.iplot(table, filename='minutes_per_day_spotify')"
   ]
  },
  {
   "cell_type": "code",
   "execution_count": 39,
   "metadata": {},
   "outputs": [
    {
     "data": {
      "text/plain": [
       "'https://plot.ly/~jbean01/134/'"
      ]
     },
     "execution_count": 39,
     "metadata": {},
     "output_type": "execute_result"
    }
   ],
   "source": [
    "# Formatting for the plot.ly chart based on code adapted from an example in their gallery\n",
    "\n",
    "minutes_played = list(number_of_minutes_per_day['minutes_played'])\n",
    "\n",
    "my_columns = []\n",
    "\n",
    "for k in range(len(number_of_minutes_per_day.index) - 1):\n",
    "    my_columns.append(Column(number_of_minutes_per_day.index[:k + 1], 'x{}'.format(k + 1)))   \n",
    "    my_columns.append(Column(minutes_played[:k + 1], 'y{}'.format(k + 1)))\n",
    "grid = Grid(my_columns)\n",
    "py.grid_ops.upload(grid, 'minutes_played' + str(time.time()), auto_open=False)"
   ]
  },
  {
   "cell_type": "code",
   "execution_count": 40,
   "metadata": {},
   "outputs": [
    {
     "data": {
      "text/html": [
       "<iframe id=\"igraph\" scrolling=\"no\" style=\"border:none;\" seamless=\"seamless\" src=\"https://plot.ly/~jbean01/135.embed\" height=\"400px\" width=\"800px\"></iframe>"
      ],
      "text/plain": [
       "<plotly.tools.PlotlyDisplay object>"
      ]
     },
     "execution_count": 40,
     "metadata": {},
     "output_type": "execute_result"
    }
   ],
   "source": [
    "data=[dict(type='scatter',\n",
    "           xsrc=grid.get_column_reference('x1'),\n",
    "           ysrc= grid.get_column_reference('y1'),\n",
    "           name='Spotify',\n",
    "           mode='lines',\n",
    "           line=dict(color= 'rgb(0, 153, 255)'),\n",
    "           fill='tozeroy',\n",
    "           fillcolor='rgba(153, 204, 255, 0.5)')]\n",
    "\n",
    "axis=dict(ticklen=4,\n",
    "          mirror=True,\n",
    "          zeroline=False,\n",
    "          showline=True,\n",
    "          autorange=False,\n",
    "          showgrid=False)\n",
    "\n",
    "layout = dict(title='Minutes Played per Day Spotify',\n",
    "              font=dict(family='Balto'),\n",
    "              showlegend=False,\n",
    "              autosize=False,\n",
    "              width=800,\n",
    "              height=400,\n",
    "              xaxis=dict(axis, **{'nticks':12, 'tickangle':-45,\n",
    "                                  'range': [min(number_of_minutes_per_day.index),\n",
    "                                            max(number_of_minutes_per_day.index)]}),\n",
    "              yaxis=dict(axis, **{'title': 'Minutes', 'range':[0,max(number_of_minutes_per_day.minutes_played)+5]}),\n",
    "              updatemenus=[dict(type='buttons',\n",
    "                                showactive=False,\n",
    "                                y=1,\n",
    "                                x=1.1,\n",
    "                                xanchor='right',\n",
    "                                yanchor='top',\n",
    "                                pad=dict(t=0, r=10),\n",
    "                                buttons=[dict(label='Play',\n",
    "                                              method='animate',\n",
    "                                              args=[None, dict(frame=dict(duration=50, redraw=False), \n",
    "                                                               transition=dict(duration=0),\n",
    "                                                               fromcurrent=True,\n",
    "                                                               mode='immediate')])])])\n",
    "\n",
    "frames=[{'data':[{'xsrc': grid.get_column_reference('x{}'.format(k + 1)),\n",
    "                  'ysrc': grid.get_column_reference('y{}'.format(k + 1))}],\n",
    "         'traces': [0]\n",
    "        } for k in range(len(number_of_minutes_per_day.index) - 1)]\n",
    "\n",
    "fig=dict(data=data, layout=layout, frames=frames)\n",
    "py.icreate_animations(fig, 'Minutes_Per_Day_Spotify' + str(time.time()))"
   ]
  },
  {
   "cell_type": "markdown",
   "metadata": {},
   "source": [
    "# Listening by Day of Week"
   ]
  },
  {
   "cell_type": "code",
   "execution_count": 41,
   "metadata": {},
   "outputs": [],
   "source": [
    "# Set the index as the column for easier slicing\n",
    "\n",
    "date_index = spotify_data.set_index('local_time')\n",
    "date_index.index = date_index.index.date"
   ]
  },
  {
   "cell_type": "code",
   "execution_count": 42,
   "metadata": {},
   "outputs": [],
   "source": [
    "# Merge the date index with day of week; remove duplicated values\n",
    "\n",
    "merged_minutes_per_day = number_of_minutes_per_day.merge(date_index[['local_day_of_week']], left_index=True, right_index=True,\n",
    "                                                        how='left', validate='1:m')\n",
    "\n",
    "merged_minutes_per_day = merged_minutes_per_day[~merged_minutes_per_day.index.duplicated(keep='first')]"
   ]
  },
  {
   "cell_type": "code",
   "execution_count": 43,
   "metadata": {},
   "outputs": [
    {
     "data": {
      "text/html": [
       "<div>\n",
       "<style scoped>\n",
       "    .dataframe tbody tr th:only-of-type {\n",
       "        vertical-align: middle;\n",
       "    }\n",
       "\n",
       "    .dataframe tbody tr th {\n",
       "        vertical-align: top;\n",
       "    }\n",
       "\n",
       "    .dataframe thead th {\n",
       "        text-align: right;\n",
       "    }\n",
       "</style>\n",
       "<table border=\"1\" class=\"dataframe\">\n",
       "  <thead>\n",
       "    <tr style=\"text-align: right;\">\n",
       "      <th></th>\n",
       "      <th>minutes_played</th>\n",
       "      <th>local_day_of_week</th>\n",
       "    </tr>\n",
       "  </thead>\n",
       "  <tbody>\n",
       "    <tr>\n",
       "      <th>2018-08-07</th>\n",
       "      <td>98.406583</td>\n",
       "      <td>Tuesday</td>\n",
       "    </tr>\n",
       "    <tr>\n",
       "      <th>2018-08-09</th>\n",
       "      <td>173.769567</td>\n",
       "      <td>Thursday</td>\n",
       "    </tr>\n",
       "    <tr>\n",
       "      <th>2018-08-10</th>\n",
       "      <td>65.256450</td>\n",
       "      <td>Friday</td>\n",
       "    </tr>\n",
       "    <tr>\n",
       "      <th>2018-08-11</th>\n",
       "      <td>142.560117</td>\n",
       "      <td>Saturday</td>\n",
       "    </tr>\n",
       "    <tr>\n",
       "      <th>2018-08-12</th>\n",
       "      <td>156.548900</td>\n",
       "      <td>Sunday</td>\n",
       "    </tr>\n",
       "  </tbody>\n",
       "</table>\n",
       "</div>"
      ],
      "text/plain": [
       "            minutes_played local_day_of_week\n",
       "2018-08-07       98.406583           Tuesday\n",
       "2018-08-09      173.769567          Thursday\n",
       "2018-08-10       65.256450            Friday\n",
       "2018-08-11      142.560117          Saturday\n",
       "2018-08-12      156.548900            Sunday"
      ]
     },
     "execution_count": 43,
     "metadata": {},
     "output_type": "execute_result"
    }
   ],
   "source": [
    "merged_minutes_per_day.head()"
   ]
  },
  {
   "cell_type": "code",
   "execution_count": 44,
   "metadata": {},
   "outputs": [],
   "source": [
    "# Find the number of minutes played per day of week\n",
    "\n",
    "days = ['Monday','Tuesday','Wednesday','Thursday','Friday','Saturday','Sunday']\n",
    "\n",
    "time_per_day = []\n",
    "\n",
    "for day in days:\n",
    "    \n",
    "    df_days = merged_minutes_per_day[merged_minutes_per_day.local_day_of_week == day]\n",
    "    \n",
    "    time_per_day.append(list(df_days['minutes_played']))"
   ]
  },
  {
   "cell_type": "code",
   "execution_count": 45,
   "metadata": {},
   "outputs": [
    {
     "data": {
      "text/html": [
       "<iframe id=\"igraph\" scrolling=\"no\" style=\"border:none;\" seamless=\"seamless\" src=\"https://plot.ly/~jbean01/136.embed\" height=\"525px\" width=\"100%\"></iframe>"
      ],
      "text/plain": [
       "<plotly.tools.PlotlyDisplay object>"
      ]
     },
     "execution_count": 45,
     "metadata": {},
     "output_type": "execute_result"
    }
   ],
   "source": [
    "traces = []\n",
    "\n",
    "for i, j in enumerate(days):\n",
    "    \n",
    "    trace = go.Box(\n",
    "    y=time_per_day[i],\n",
    "    name = j,\n",
    "    boxmean=True\n",
    "    )\n",
    "    traces.append(trace)\n",
    "\n",
    "data = traces\n",
    "py.iplot(data)"
   ]
  },
  {
   "cell_type": "markdown",
   "metadata": {},
   "source": [
    "# Scatter Plot of Artist Plays"
   ]
  },
  {
   "cell_type": "code",
   "execution_count": 46,
   "metadata": {},
   "outputs": [],
   "source": [
    "def time_of_day_scatter_df(df = spotify_data, time_of_day=None):\n",
    "    \n",
    "    \"\"\"\n",
    "    Takes in a data frame, filters it for the time of day if the variable is not None, and finds the \n",
    "    frequency of plays, minutes played, and unique songs by artists. The function returns a data frame\n",
    "    with this information.\n",
    "    \"\"\"\n",
    "    \n",
    "    if time_of_day:\n",
    "        df = df[df['local_time_of_day'] == time_of_day]\n",
    "        \n",
    "    grouped_artists = df.groupby(by='artist_name')\n",
    "    \n",
    "    number_of_plays = grouped_artists['track_name'].count()\n",
    "    minutes_played = grouped_artists['minutes_played'].sum()\n",
    "    unique_songs_played = [len(i) for i in grouped_artists['track_name'].unique()]\n",
    "    \n",
    "    scatter_df = pd.DataFrame({'number_of_plays':number_of_plays, \n",
    "                           'minutes_played':minutes_played,\n",
    "                           'unique_songs_played':unique_songs_played},\n",
    "                         index = number_of_plays.index)\n",
    "    \n",
    "    return scatter_df"
   ]
  },
  {
   "cell_type": "code",
   "execution_count": 47,
   "metadata": {},
   "outputs": [],
   "source": [
    "scatter_df = time_of_day_scatter_df()"
   ]
  },
  {
   "cell_type": "code",
   "execution_count": 48,
   "metadata": {},
   "outputs": [
    {
     "data": {
      "text/html": [
       "<div>\n",
       "<style scoped>\n",
       "    .dataframe tbody tr th:only-of-type {\n",
       "        vertical-align: middle;\n",
       "    }\n",
       "\n",
       "    .dataframe tbody tr th {\n",
       "        vertical-align: top;\n",
       "    }\n",
       "\n",
       "    .dataframe thead th {\n",
       "        text-align: right;\n",
       "    }\n",
       "</style>\n",
       "<table border=\"1\" class=\"dataframe\">\n",
       "  <thead>\n",
       "    <tr style=\"text-align: right;\">\n",
       "      <th></th>\n",
       "      <th>number_of_plays</th>\n",
       "      <th>minutes_played</th>\n",
       "      <th>unique_songs_played</th>\n",
       "    </tr>\n",
       "    <tr>\n",
       "      <th>artist_name</th>\n",
       "      <th></th>\n",
       "      <th></th>\n",
       "      <th></th>\n",
       "    </tr>\n",
       "  </thead>\n",
       "  <tbody>\n",
       "    <tr>\n",
       "      <th>5 Seconds of Summer</th>\n",
       "      <td>7</td>\n",
       "      <td>19.043100</td>\n",
       "      <td>2</td>\n",
       "    </tr>\n",
       "    <tr>\n",
       "      <th>A Great Big World</th>\n",
       "      <td>2</td>\n",
       "      <td>7.458883</td>\n",
       "      <td>2</td>\n",
       "    </tr>\n",
       "    <tr>\n",
       "      <th>A N X</th>\n",
       "      <td>3</td>\n",
       "      <td>8.567783</td>\n",
       "      <td>3</td>\n",
       "    </tr>\n",
       "    <tr>\n",
       "      <th>A R I Z O N A</th>\n",
       "      <td>7</td>\n",
       "      <td>18.080567</td>\n",
       "      <td>3</td>\n",
       "    </tr>\n",
       "    <tr>\n",
       "      <th>AC.jR &amp; BradyJames</th>\n",
       "      <td>4</td>\n",
       "      <td>15.210050</td>\n",
       "      <td>2</td>\n",
       "    </tr>\n",
       "  </tbody>\n",
       "</table>\n",
       "</div>"
      ],
      "text/plain": [
       "                     number_of_plays  minutes_played  unique_songs_played\n",
       "artist_name                                                              \n",
       "5 Seconds of Summer                7       19.043100                    2\n",
       "A Great Big World                  2        7.458883                    2\n",
       "A N X                              3        8.567783                    3\n",
       "A R I Z O N A                      7       18.080567                    3\n",
       "AC.jR & BradyJames                 4       15.210050                    2"
      ]
     },
     "execution_count": 48,
     "metadata": {},
     "output_type": "execute_result"
    }
   ],
   "source": [
    "scatter_df.head()"
   ]
  },
  {
   "cell_type": "code",
   "execution_count": 49,
   "metadata": {},
   "outputs": [
    {
     "data": {
      "text/html": [
       "<iframe id=\"igraph\" scrolling=\"no\" style=\"border:none;\" seamless=\"seamless\" src=\"https://plot.ly/~jbean01/123.embed\" height=\"525px\" width=\"100%\"></iframe>"
      ],
      "text/plain": [
       "<plotly.tools.PlotlyDisplay object>"
      ]
     },
     "execution_count": 49,
     "metadata": {},
     "output_type": "execute_result"
    }
   ],
   "source": [
    "trace = go.Scatter(\n",
    "    \n",
    "    x = scatter_df.number_of_plays,\n",
    "    \n",
    "    y = [round(i, 1) for i in scatter_df.minutes_played],\n",
    "    \n",
    "    text = ['Artist: ' + str(i) + '<br>Minutes Played: ' + str(round(scatter_df.loc[i,'minutes_played'], 1)) +\n",
    "            '<br>Unique Songs: ' + str(scatter_df.loc[i, 'unique_songs_played']) for i in scatter_df.index],\n",
    "   \n",
    "    marker = dict(size = [round(i, 1) for i in scatter_df.unique_songs_played], cmin=0, cmax = len(scatter_df),\n",
    "                  colorscale='Viridis', color=[i for i in range(len(scatter_df))]),\n",
    "    \n",
    "    mode = 'markers'\n",
    ")\n",
    "\n",
    "data = [trace]\n",
    "\n",
    "layout = go.Layout(\n",
    "    title='Amount of Time Listened and Songs by Artist',\n",
    "    xaxis=dict(\n",
    "        title='Number of Songs Played',\n",
    "        gridcolor='rgb(255, 255, 255)',\n",
    "        zerolinewidth=1,\n",
    "        ticklen=5,\n",
    "        gridwidth=2,\n",
    "    ),\n",
    "    yaxis=dict(\n",
    "        title='Minutes Played',\n",
    "        gridcolor='rgb(255, 255, 255)',\n",
    "        zerolinewidth=1,\n",
    "        ticklen=5,\n",
    "        gridwidth=2,\n",
    "    ),\n",
    "    paper_bgcolor='rgb(243, 243, 243)',\n",
    "    plot_bgcolor='rgb(243, 243, 243)',\n",
    "    \n",
    "    annotations=[\n",
    "        dict(\n",
    "            \n",
    "            text='Size = Number of Unique Songs Played',\n",
    "            x=130,\n",
    "            y=20,\n",
    "            font={'color':'black'},\n",
    "            bordercolor='#c7c7c7',\n",
    "            borderwidth=2,\n",
    "            borderpad=4,\n",
    "            bgcolor='#fffaf0',\n",
    "            opacity=0.8,\n",
    "            showarrow=False\n",
    "\n",
    "        )\n",
    "    ]\n",
    ")\n",
    "\n",
    "\n",
    "fig = go.Figure(data=data, layout=layout)\n",
    "\n",
    "py.iplot(fig, filename='artist-scatter')"
   ]
  },
  {
   "cell_type": "code",
   "execution_count": 50,
   "metadata": {},
   "outputs": [
    {
     "data": {
      "text/html": [
       "<iframe id=\"igraph\" scrolling=\"no\" style=\"border:none;\" seamless=\"seamless\" src=\"https://plot.ly/~jbean01/127.embed\" height=\"525px\" width=\"100%\"></iframe>"
      ],
      "text/plain": [
       "<plotly.tools.PlotlyDisplay object>"
      ]
     },
     "execution_count": 50,
     "metadata": {},
     "output_type": "execute_result"
    }
   ],
   "source": [
    "button_layer_1_height = 1.12\n",
    "button_layer_2_height = 1.065\n",
    "\n",
    "scatter_morning = time_of_day_scatter_df(time_of_day='morning')\n",
    "scatter_afternoon = time_of_day_scatter_df(time_of_day='afternoon')\n",
    "scatter_evening = time_of_day_scatter_df(time_of_day='night')\n",
    "\n",
    "trace_all = go.Scatter(\n",
    "    \n",
    "    x = scatter_df.number_of_plays,\n",
    "    \n",
    "    y = [round(i, 1) for i in scatter_df.minutes_played],\n",
    "    \n",
    "    text = ['Artist: ' + str(i) + '<br>Minutes Played: ' + str(round(scatter_df.loc[i,'minutes_played'], 1)) +\n",
    "            '<br>Unique Songs: ' + str(scatter_df.loc[i, 'unique_songs_played']) for i in scatter_df.index],\n",
    "   \n",
    "    marker = dict(size = [round(i, 1) for i in scatter_df.unique_songs_played], cmin=0, cmax = len(scatter_df),\n",
    "                  colorscale='Viridis', color=[i for i in range(len(scatter_df))]),\n",
    "    \n",
    "    mode = 'markers',\n",
    "    visible=True,\n",
    "    name='All'\n",
    ")\n",
    "\n",
    "trace_morning = go.Scatter(\n",
    "    \n",
    "    x = scatter_morning.number_of_plays,\n",
    "    \n",
    "    y = [round(i, 1) for i in scatter_morning.minutes_played],\n",
    "    \n",
    "    text = ['Artist: ' + str(i) + '<br>Minutes Played: ' + str(round(scatter_morning.loc[i,'minutes_played'], 1)) +\n",
    "            '<br>Unique Songs: ' + str(scatter_morning.loc[i, 'unique_songs_played']) for i in scatter_morning.index],\n",
    "   \n",
    "    marker = dict(size = [round(i, 1) for i in scatter_morning.unique_songs_played], cmin=0, cmax = len(scatter_morning),\n",
    "                  colorscale='Viridis', color=[i for i in range(len(scatter_morning))]),\n",
    "    \n",
    "    mode = 'markers',\n",
    "    visible=False,\n",
    "    name='Morning'\n",
    ")\n",
    "\n",
    "trace_afternoon = go.Scatter(\n",
    "    \n",
    "    x = scatter_afternoon.number_of_plays,\n",
    "    \n",
    "    y = [round(i, 1) for i in scatter_afternoon.minutes_played],\n",
    "    \n",
    "    text = ['Artist: ' + str(i) + '<br>Minutes Played: ' + str(round(scatter_afternoon.loc[i,'minutes_played'], 1)) +\n",
    "            '<br>Unique Songs: ' + str(scatter_afternoon.loc[i, 'unique_songs_played']) for i in scatter_afternoon.index],\n",
    "   \n",
    "    marker = dict(size = [round(i, 1) for i in scatter_afternoon.unique_songs_played], cmin=0, cmax = len(scatter_afternoon),\n",
    "                  colorscale='Viridis', color=[i for i in range(len(scatter_afternoon))]),\n",
    "    \n",
    "    mode = 'markers',\n",
    "    visible=False,\n",
    "    name='Afternoon'\n",
    "    \n",
    ")\n",
    "\n",
    "trace_evening = go.Scatter(\n",
    "    \n",
    "    x = scatter_evening.number_of_plays,\n",
    "    \n",
    "    y = [round(i, 1) for i in scatter_evening.minutes_played],\n",
    "    \n",
    "    text = ['Artist: ' + str(i) + '<br>Minutes Played: ' + str(round(scatter_evening.loc[i,'minutes_played'], 1)) +\n",
    "            '<br>Unique Songs: ' + str(scatter_evening.loc[i, 'unique_songs_played']) for i in scatter_evening.index],\n",
    "   \n",
    "    marker = dict(size = [round(i, 1) for i in scatter_evening.unique_songs_played], cmin=0, cmax = len(scatter_evening),\n",
    "                  colorscale='Viridis', color=[i for i in range(len(scatter_evening))]),\n",
    "    \n",
    "    mode = 'markers',\n",
    "    visible=False,\n",
    "    name='Evening'\n",
    "    \n",
    ")\n",
    "\n",
    "data = [trace_all, trace_morning, trace_afternoon, trace_evening]\n",
    "\n",
    "updatemenus = list([\n",
    "    dict(\n",
    "         buttons=list([   \n",
    "            dict(label = 'All',\n",
    "                 method = 'update',\n",
    "                 args = [{'visible': [True, False, False, False]},\n",
    "                         {'title': 'All Day'}]),\n",
    "            dict(label = 'Morning',\n",
    "                 method = 'update',\n",
    "                 args = [{'visible': [False, True, False, False]},\n",
    "                         {'title': 'Morning'}]),\n",
    "            dict(label = 'Afternoon',\n",
    "                 method = 'update',\n",
    "                 args = [{'visible': [False, False, True, False]},\n",
    "                         {'title': 'Afternoon'}]),\n",
    "            dict(label = 'Evening',\n",
    "                 method = 'update',\n",
    "                 args = [{'visible': [False, False, False, True]},\n",
    "                         {'title': 'Evening'}])\n",
    "        ]),\n",
    "        type='buttons',\n",
    "        direction = 'right',\n",
    "        pad = {'r': 10, 't': 10},\n",
    "        showactive = True,\n",
    "        x = 0.3,\n",
    "        xanchor = 'left',\n",
    "        y = button_layer_1_height,\n",
    "        yanchor = 'top' )\n",
    "])\n",
    "                \n",
    "layout = dict(title='Artist Variance by Time of Day', showlegend=False,\n",
    "              updatemenus=updatemenus)\n",
    "\n",
    "fig = dict(data=data, layout=layout)\n",
    "\n",
    "py.iplot(fig, filename='artist_by_time_of_day')"
   ]
  },
  {
   "cell_type": "code",
   "execution_count": null,
   "metadata": {},
   "outputs": [],
   "source": []
  }
 ],
 "metadata": {
  "kernelspec": {
   "display_name": "Python 3",
   "language": "python",
   "name": "python3"
  },
  "language_info": {
   "codemirror_mode": {
    "name": "ipython",
    "version": 3
   },
   "file_extension": ".py",
   "mimetype": "text/x-python",
   "name": "python",
   "nbconvert_exporter": "python",
   "pygments_lexer": "ipython3",
   "version": "3.6.7"
  }
 },
 "nbformat": 4,
 "nbformat_minor": 2
}
